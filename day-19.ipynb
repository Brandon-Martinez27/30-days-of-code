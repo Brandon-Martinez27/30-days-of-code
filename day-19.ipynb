{
 "cells": [
  {
   "cell_type": "markdown",
   "metadata": {},
   "source": [
    "# Day 19: Interfaces\n",
    "\n",
    "\n",
    "**Objective**\n",
    "\n",
    "Today, we're learning about Interfaces. Check out the Tutorial tab for learning materials and an instructional video!\n",
    "\n",
    "**Task** \n",
    "The AdvancedArithmetic interface and the method declaration for the abstract divisorSum(n) method are provided for you in the editor below.\n",
    "Complete the implementation of Calculator class, which implements the AdvancedArithmetic interface. The implementation for the divisorSum(n) method must return the sum of all divisors of n.\n",
    "\n",
    "**Input Format**\n",
    "\n",
    "A single line containing an integer, n.\n",
    "\n",
    "**Constraints**\n",
    "- $1  \\leq \\ n  \\leq \\ 1000$\n",
    "\n",
    "**Output Format**\n",
    "\n",
    "You are not responsible for printing anything to stdout. The locked template code in the editor below will call your code and print the necessary output. \n",
    "\n",
    "**Sample Input**\n",
    "\n",
    "6\n",
    "\n",
    "**Sample Output 0**\n",
    "\n",
    "I implemented: AdvancedArithmetic\n",
    "12\n",
    "\n",
    "**Explanation**\n",
    "The integer 6 is evenly divisible by 1, 2, 3, and 6. Our divisorSum method should return the sum of these numbers, which is 1+2+3+6=12. The Solution class then prints \"I implemented: AdvancedArithmetic\" on the first line, followed by the sum returned by divisorSum (which is 12) on the second line."
   ]
  },
  {
   "cell_type": "code",
   "execution_count": 6,
   "metadata": {
    "scrolled": true
   },
   "outputs": [
    {
     "name": "stdout",
     "output_type": "stream",
     "text": [
      "6\n",
      "I implemented: AdvancedArithmetic\n",
      "12\n"
     ]
    }
   ],
   "source": [
    "class AdvancedArithmetic(object):\n",
    "    def divisorSum(n):\n",
    "        raise NotImplementedError\n",
    "\n",
    "class Calculator(AdvancedArithmetic):\n",
    "    def divisorSum(self, n):\n",
    "        count = 0\n",
    "        for i in range(1,n+1):\n",
    "            if n % i == 0:\n",
    "                count += i\n",
    "        return count\n",
    "        pass\n",
    "\n",
    "\n",
    "n = int(input())\n",
    "my_calculator = Calculator()\n",
    "s = my_calculator.divisorSum(n)\n",
    "print(\"I implemented: \" + type(my_calculator).__bases__[0].__name__)\n",
    "print(s)"
   ]
  },
  {
   "cell_type": "markdown",
   "metadata": {},
   "source": [
    "---\n",
    "### scratch work"
   ]
  },
  {
   "cell_type": "code",
   "execution_count": 5,
   "metadata": {},
   "outputs": [
    {
     "data": {
      "text/plain": [
       "12"
      ]
     },
     "execution_count": 5,
     "metadata": {},
     "output_type": "execute_result"
    }
   ],
   "source": [
    "n = 6\n",
    "count = 0\n",
    "for i in range(1,n+1):\n",
    "    if n % i == 0:\n",
    "        count = count + i \n",
    "count"
   ]
  },
  {
   "cell_type": "code",
   "execution_count": null,
   "metadata": {},
   "outputs": [],
   "source": [
    "count = "
   ]
  }
 ],
 "metadata": {
  "kernelspec": {
   "display_name": "Python 3",
   "language": "python",
   "name": "python3"
  },
  "language_info": {
   "codemirror_mode": {
    "name": "ipython",
    "version": 3
   },
   "file_extension": ".py",
   "mimetype": "text/x-python",
   "name": "python",
   "nbconvert_exporter": "python",
   "pygments_lexer": "ipython3",
   "version": "3.7.6"
  }
 },
 "nbformat": 4,
 "nbformat_minor": 4
}
