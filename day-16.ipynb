{
 "cells": [
  {
   "cell_type": "markdown",
   "metadata": {},
   "source": [
    "# Day 16: Exceptions - String to Integer\n",
    "\n",
    "**Objective**\n",
    "\n",
    "Today, we're getting started with Exceptions by learning how to parse an integer from a string and print a custom error message. Check out the Tutorial tab for learning materials and an instructional video!\n",
    "\n",
    "**Task**\n",
    "\n",
    "Read a string, S, and print its integer value; if S cannot be converted to an integer, print Bad String.\n",
    "Note: You must use the String-to-Integer and exception handling constructs built into your submission language. If you attempt to use loops/conditional statements, you will get a  score.\n",
    "\n",
    "**Note**: You must use the String-to-Integer and exception handling constructs built into your submission language. If you attempt to use loops/conditional statements, you will get a 0 score.\n",
    "\n",
    "**Input Format**\n",
    "\n",
    "A single string, S.\n",
    "\n",
    "**Constraints**\n",
    "- $1  \\leq \\ |S| \\leq \\ 6$, where |S| is the length of string S.\n",
    "\n",
    "**Output Format**\n",
    "\n",
    "Print the parsed integer value of S, or Bad String if S cannot be converted to an integer.\n",
    "\n",
    "**Sample Input 0**\n",
    "\n",
    "3\n",
    "\n",
    "**Sample Output 0**\n",
    "\n",
    "3\n",
    "\n",
    "**Sample Input 1**\n",
    "\n",
    "za\n",
    "\n",
    "**Sample Output 1**\n",
    "\n",
    "Bad String\n",
    "\n",
    "**Explanation**\n",
    "\n",
    "Sample Case 0 contains an integer, so it should not raise an exception when we attempt to convert it to an integer. Thus, we print the 3. \n",
    "\n",
    "Sample Case 1 does not contain any integers, so an attempt to convert it to an integer will raise an exception. Thus, our exception handler prints Bad String."
   ]
  },
  {
   "cell_type": "code",
   "execution_count": 8,
   "metadata": {
    "scrolled": true
   },
   "outputs": [
    {
     "name": "stdout",
     "output_type": "stream",
     "text": [
      "za\n",
      "Bad String\n"
     ]
    }
   ],
   "source": [
    "#!/bin/python3\n",
    "\n",
    "import sys\n",
    "\n",
    "\n",
    "S = input().strip()\n",
    "\n",
    "try: \n",
    "    print(str(int(S)))\n",
    "except ValueError:\n",
    "    print('Bad String')"
   ]
  },
  {
   "cell_type": "markdown",
   "metadata": {},
   "source": [
    "---\n",
    "### scratch work"
   ]
  },
  {
   "cell_type": "code",
   "execution_count": 2,
   "metadata": {},
   "outputs": [
    {
     "data": {
      "text/plain": [
       "'3'"
      ]
     },
     "execution_count": 2,
     "metadata": {},
     "output_type": "execute_result"
    }
   ],
   "source": [
    "str(3)"
   ]
  },
  {
   "cell_type": "code",
   "execution_count": null,
   "metadata": {},
   "outputs": [],
   "source": [
    "str()"
   ]
  }
 ],
 "metadata": {
  "kernelspec": {
   "display_name": "Python 3",
   "language": "python",
   "name": "python3"
  },
  "language_info": {
   "codemirror_mode": {
    "name": "ipython",
    "version": 3
   },
   "file_extension": ".py",
   "mimetype": "text/x-python",
   "name": "python",
   "nbconvert_exporter": "python",
   "pygments_lexer": "ipython3",
   "version": "3.7.6"
  }
 },
 "nbformat": 4,
 "nbformat_minor": 4
}
