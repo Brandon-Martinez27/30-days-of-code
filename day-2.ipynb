{
 "cells": [
  {
   "cell_type": "markdown",
   "metadata": {},
   "source": [
    "# Day 2: Arithmetic Operators\n",
    "\n",
    "\n",
    "**Objective**\n",
    "In this challenge, you will work with arithmetic operators. Check out the Tutorial tab for learning materials and an instructional video.\n",
    "\n",
    "**Task**\n",
    "Given the meal price (base cost of a meal), tip percent (the percentage of the meal price being added as tip), and tax percent (the percentage of the meal price being added as tax) for a meal, find and print the meal's total cost. Round the result to the nearest integer.\n",
    "\n",
    "**Example**\n",
    "A tip of 15% * 100 = 15, and the taxes are 8% * 100 = 8. Print the value  and return from the function.\n",
    "\n",
    "**Function Description** \n",
    "Complete the solve function in the editor below.\n",
    "solve has the following parameters:\n",
    "- int meal_cost: the cost of food before tip and tax\n",
    "- int tip_percent: the tip percentage\n",
    "- int tax_percent: the tax percentage\n",
    "\n",
    "Returns The function returns nothing. Print the calculated value, rounded to the nearest integer.\n",
    "\n",
    "**Note**: Be sure to use precise values for your calculations, or you may end up with an incorrectly rounded result.\n",
    "\n",
    "**Input Format**\n",
    "There are 3 lines of numeric input: \n",
    "The first line has a double, meal_cost (the cost of the meal before tax and tip). \n",
    "The second line has an integer, tip_percent (the percentage of  being added as tip). \n",
    "The third line has an integer, tax_percent (the percentage of  being added as tax)."
   ]
  },
  {
   "cell_type": "code",
   "execution_count": 1,
   "metadata": {},
   "outputs": [
    {
     "name": "stdout",
     "output_type": "stream",
     "text": [
      "10\n",
      "15\n",
      "8\n",
      "12\n"
     ]
    }
   ],
   "source": [
    "#!/bin/python3\n",
    "\n",
    "import math\n",
    "import os\n",
    "import random\n",
    "import re\n",
    "import sys\n",
    "\n",
    "# Complete the solve function below.\n",
    "def solve(meal_cost, tip_percent, tax_percent):\n",
    "    tip = meal_cost * (tip_percent / 100)\n",
    "    tax = meal_cost * (tax_percent / 100)\n",
    "    total = int(round(meal_cost + tax + tip))\n",
    "    return total\n",
    "\n",
    "if __name__ == '__main__':\n",
    "    meal_cost = float(input())\n",
    "\n",
    "    tip_percent = int(input())\n",
    "\n",
    "    tax_percent = int(input())\n",
    "\n",
    "    solve(meal_cost, tip_percent, tax_percent)\n",
    "print(solve(meal_cost, tip_percent, tax_percent))"
   ]
  },
  {
   "cell_type": "code",
   "execution_count": null,
   "metadata": {},
   "outputs": [],
   "source": []
  }
 ],
 "metadata": {
  "kernelspec": {
   "display_name": "Python 3",
   "language": "python",
   "name": "python3"
  },
  "language_info": {
   "codemirror_mode": {
    "name": "ipython",
    "version": 3
   },
   "file_extension": ".py",
   "mimetype": "text/x-python",
   "name": "python",
   "nbconvert_exporter": "python",
   "pygments_lexer": "ipython3",
   "version": "3.7.6"
  }
 },
 "nbformat": 4,
 "nbformat_minor": 4
}
