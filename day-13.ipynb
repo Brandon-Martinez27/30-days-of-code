{
 "cells": [
  {
   "cell_type": "markdown",
   "metadata": {},
   "source": [
    "# Day 13: Abstract Classes\n",
    "\n",
    "**Objective**\n",
    "\n",
    "Today, we will extend what we learned yesterday about Inheritance to Abstract Classes. Because this is a very specific object oriented concept, submissions are limited to the few languages that use this construct. Check out the Tutorial tab for learning materials and an instructional video.\n",
    "\n",
    "**Task**\n",
    "\n",
    "Given a Book class and a Solution class, write a MyBook class that does the following:\n",
    "\n",
    "- Inherits from Book\n",
    "- Has a parameterized constructor taking these 3 parameters:\n",
    "    1. string title\n",
    "    2. string author\n",
    "    3. int price\n",
    "- Implements the Book class' abstract display() method so it prints these lines:\n",
    "    1. `Title:`, a space, and then the current instance's title.\n",
    "    2. `Author:`, a space, and then the current instance's author.\n",
    "    3. `Price:`, a space, and then the current instance's price.\n",
    "\n",
    "**Note**: Because these classes are being written in the same file, you must not use an access modifier (e.g.: `public`) when declaring MyBook or your code will not execute.\n",
    "\n",
    "**Input Format**\n",
    "\n",
    "You are not responsible for reading any input from stdin. The Solution class creates a Book object and calls the MyBook class constructor (passing it the necessary arguments). It then calls the display method on the Book object.\n",
    "\n",
    "**Output Format**\n",
    "\n",
    "The void_display() method should print and label the respective title, author, and price of the MyBook object's instance (with each value on its own line) like so:\n",
    "\n",
    "`Title: $title\n",
    " Author: $author\n",
    " Price: $price`\n",
    " \n",
    "**Note**: The \\$ is prepended to variable names to indicate they are placeholders for variables.\n",
    "\n",
    "**Sample Input**\n",
    "\n",
    "The following input from stdin is handled by the locked stub code in your editor:\n",
    "\n",
    "`The Alchemist\n",
    " Paulo Coelho\n",
    " 248`\n",
    "\n",
    "**Sample Output**\n",
    "\n",
    "The following output is printed by your display() method:\n",
    "\n",
    "`Title: The Alchemist\n",
    " Author: Paulo Coelho\n",
    " Price: 248`"
   ]
  },
  {
   "cell_type": "code",
   "execution_count": 5,
   "metadata": {
    "scrolled": true
   },
   "outputs": [
    {
     "name": "stdout",
     "output_type": "stream",
     "text": [
      "The Alchemist\n",
      "Paulo Coelho\n",
      "248\n",
      "Title: The Alchemist\n",
      "Author: Paulo Coelho\n",
      "Price: 248\n"
     ]
    }
   ],
   "source": [
    "from abc import ABCMeta, abstractmethod\n",
    "class Book(object, metaclass=ABCMeta):\n",
    "    def __init__(self,title,author):\n",
    "        self.title=title\n",
    "        self.author=author   \n",
    "    @abstractmethod\n",
    "    def display(): pass\n",
    "\n",
    "#Write MyBook class\n",
    "class MyBook(Book):\n",
    "    def __init__(self, title, author, price):\n",
    "        self.title = title\n",
    "        self.author = author\n",
    "        self.price = price\n",
    "    def display(self):\n",
    "        print(\"Title: \"+ title)\n",
    "        print(\"Author: \"+ author)\n",
    "        print(\"Price: \"+ str(price))\n",
    "\n",
    "title=input()\n",
    "author=input()\n",
    "price=int(input())\n",
    "new_novel=MyBook(title,author,price)\n",
    "new_novel.display()"
   ]
  },
  {
   "cell_type": "markdown",
   "metadata": {},
   "source": [
    "---\n",
    "### scratch work"
   ]
  },
  {
   "cell_type": "code",
   "execution_count": null,
   "metadata": {},
   "outputs": [],
   "source": []
  }
 ],
 "metadata": {
  "kernelspec": {
   "display_name": "Python 3",
   "language": "python",
   "name": "python3"
  },
  "language_info": {
   "codemirror_mode": {
    "name": "ipython",
    "version": 3
   },
   "file_extension": ".py",
   "mimetype": "text/x-python",
   "name": "python",
   "nbconvert_exporter": "python",
   "pygments_lexer": "ipython3",
   "version": "3.7.6"
  }
 },
 "nbformat": 4,
 "nbformat_minor": 4
}
