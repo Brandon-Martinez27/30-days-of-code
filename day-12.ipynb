{
 "cells": [
  {
   "cell_type": "markdown",
   "metadata": {},
   "source": [
    "# Day 12: Inheritance\n",
    "\n",
    "**Objective**\n",
    "\n",
    "Today, we're delving into Inheritance. Check out the attached tutorial for learning materials and an instructional video.\n",
    "\n",
    "**Task**\n",
    "\n",
    "You are given two classes, Person and Student, where Person is the base class and Student is the derived class. Completed code for Person and a declaration for Student are provided for you in the editor. Observe that Student inherits all the properties of Person.\n",
    "\n",
    "Complete the Student class by writing the following:\n",
    "\n",
    "- A Student class constructor, which has  parameters:\n",
    "    1. A string, firstName.\n",
    "    2. A string, lastName.\n",
    "    3. An integer, idNumber.\n",
    "    4. An integer array (or vector) of test scores, scores.\n",
    "- A char calculate() method that calculates a Student object's average and returns the grade character representative of their calculated average:\n",
    "\n",
    "| letter | average(a)               |\n",
    "|--------|--------------------------|\n",
    "| O      | $90 \\leq \\ a \\leq \\ 100$ |\n",
    "| E      | $80 \\leq \\ a < 90$       |\n",
    "| A      | $70 \\leq \\ a < 80$       |\n",
    "| P      | $55 \\leq \\ a < 70$       |\n",
    "| D      | $40 \\leq \\ a < 55$       |\n",
    "| T      | a < 40                   |\n",
    "\n",
    "**Input Format**\n",
    "\n",
    "The locked stub code in the editor reads the input and calls the Student class constructor with the necessary arguments. It also calls the calculate method which takes no arguments.\n",
    "The first line contains firstName, lastName, and idNumber, separated by a space. The second line contains the number of test scores. The third line of space-separated integers describes scores.\n",
    "\n",
    "**Constraints**\n",
    "- $1  \\leq \\ $length of firstName, length of lastName  $\\leq\\ 10$\n",
    "- length of idNumber =- 7\n",
    "- $0  \\leq \\ score \\leq \\ 100$\n",
    "\n",
    "**Output Format**\n",
    "\n",
    "Output is handled by the locked stub code. Your output will be correct if your Student class constructor and calculate() method are properly implemented.\n",
    "\n",
    "**Sample Input**\n",
    "\n",
    "`Heraldo Memelli 8135627\n",
    " 2\n",
    " 100 80`\n",
    "\n",
    "**Sample Output**\n",
    "\n",
    "`Name: Memelli, Heraldo\n",
    " ID: 8135627\n",
    " Grade: O`\n",
    "\n",
    "**Explanation**\n",
    "\n",
    "This student had 2 scores to average: 100 and 80. The student's average grade is $(100+80)/2 = 90. An average grade of 90 corresponds to the letter grade o, so the calculate() method should return the character 'O'."
   ]
  },
  {
   "cell_type": "code",
   "execution_count": 1,
   "metadata": {
    "scrolled": true
   },
   "outputs": [
    {
     "name": "stdout",
     "output_type": "stream",
     "text": [
      "Heraldo Memelli 8135627\n",
      "2\n",
      "100 80\n",
      "Name: Memelli, Heraldo\n",
      "ID: 8135627\n",
      "Grade: O\n"
     ]
    }
   ],
   "source": [
    "class Person:\n",
    "    def __init__(self, firstName, lastName, idNumber):\n",
    "        self.firstName = firstName\n",
    "        self.lastName = lastName\n",
    "        self.idNumber = idNumber\n",
    "    def printPerson(self):\n",
    "        print(\"Name:\", self.lastName + \",\", self.firstName)\n",
    "        print(\"ID:\", self.idNumber)\n",
    "\n",
    "class Student(Person):\n",
    "    #   Class Constructor\n",
    "    #   \n",
    "    #   Parameters:\n",
    "    #   firstName - A string denoting the Person's first name.\n",
    "    #   lastName - A string denoting the Person's last name.\n",
    "    #   id - An integer denoting the Person's ID number.\n",
    "    #   scores - An array of integers denoting the Person's test scores.\n",
    "    #\n",
    "    # Write your constructor here\n",
    "    def __init__(self, firstName, lastName, idNumber, scores):\n",
    "        self.firstName = firstName\n",
    "        self.lastName = lastName\n",
    "        self.idNumber = idNumber\n",
    "        self.scores = scores\n",
    "    #   Function Name: calculate\n",
    "    #   Return: A character denoting the grade.\n",
    "    #\n",
    "    # Write your function here\n",
    "    def calculate(self):\n",
    "        avg = sum(self.scores)/len(self.scores)\n",
    "        if 90 <= avg and avg <= 100:\n",
    "            return 'O'\n",
    "        elif 80 <= avg and avg < 90:\n",
    "            return 'E'\n",
    "        elif 70 <= avg and avg < 80:\n",
    "            return 'A'\n",
    "        elif 55 <= avg and avg < 70:\n",
    "            return 'P'\n",
    "        elif 40 <= avg and avg < 55:\n",
    "            return 'D'\n",
    "        elif avg < 40:\n",
    "            return 'T'\n",
    "\n",
    "line = input().split()\n",
    "firstName = line[0]\n",
    "lastName = line[1]\n",
    "idNum = line[2]\n",
    "numScores = int(input()) # not needed for Python\n",
    "scores = list( map(int, input().split()) )\n",
    "s = Student(firstName, lastName, idNum, scores)\n",
    "s.printPerson()\n",
    "print(\"Grade:\", s.calculate())"
   ]
  },
  {
   "cell_type": "markdown",
   "metadata": {},
   "source": [
    "---\n",
    "### scratch work"
   ]
  },
  {
   "cell_type": "code",
   "execution_count": null,
   "metadata": {},
   "outputs": [],
   "source": []
  }
 ],
 "metadata": {
  "kernelspec": {
   "display_name": "Python 3",
   "language": "python",
   "name": "python3"
  },
  "language_info": {
   "codemirror_mode": {
    "name": "ipython",
    "version": 3
   },
   "file_extension": ".py",
   "mimetype": "text/x-python",
   "name": "python",
   "nbconvert_exporter": "python",
   "pygments_lexer": "ipython3",
   "version": "3.7.6"
  }
 },
 "nbformat": 4,
 "nbformat_minor": 4
}
