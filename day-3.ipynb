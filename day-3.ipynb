{
 "cells": [
  {
   "cell_type": "markdown",
   "metadata": {},
   "source": [
    "# Day 3: Intro to Conditional Statements\n",
    "\n",
    "\n",
    "**Objective**\n",
    "In this challenge, we learn about conditional statements. Check out the Tutorial tab for learning materials and an instructional video.\n",
    "\n",
    "**Task**\n",
    "Given an integer, n, perform the following conditional actions:\n",
    "- If n is odd, print Weird\n",
    "- If n is even and in the inclusive range of 2 to 5, print Not Weird\n",
    "- If n is even and in the inclusive range of 6 to 10, print Weird\n",
    "- If n is even and greater than 20, print Not Weird\n",
    "Complete the stub code provided in your editor to print whether or not n is weird.\n",
    "\n",
    "**Input Format**\n",
    "A single line containing a positive integer, n.\n",
    "\n",
    "**Constraints**\n",
    "- $1 \\leq \\ n \\leq \\ 100$"
   ]
  },
  {
   "cell_type": "code",
   "execution_count": null,
   "metadata": {},
   "outputs": [],
   "source": [
    "#!/bin/python3\n",
    "\n",
    "import math\n",
    "import os\n",
    "import random\n",
    "import re\n",
    "import sys\n",
    "\n",
    "\n",
    "\n",
    "if __name__ == '__main__':\n",
    "    N = int(input())\n",
    "\n",
    "if N % 2 != 0:\n",
    "    print('Weird')\n",
    "elif (N % 2 == 0) and (N >= 2) and (N <= 5):\n",
    "    print('Not Weird')\n",
    "elif (N % 2 == 0) and (N >= 6) and (N <= 10):\n",
    "    print('Weird')\n",
    "elif (N % 2 == 0) and (N > 20):\n",
    "    print('Not Weird')\n",
    "else:\n",
    "    print('Weird')"
   ]
  },
  {
   "cell_type": "code",
   "execution_count": null,
   "metadata": {},
   "outputs": [],
   "source": []
  }
 ],
 "metadata": {
  "kernelspec": {
   "display_name": "Python 3",
   "language": "python",
   "name": "python3"
  },
  "language_info": {
   "codemirror_mode": {
    "name": "ipython",
    "version": 3
   },
   "file_extension": ".py",
   "mimetype": "text/x-python",
   "name": "python",
   "nbconvert_exporter": "python",
   "pygments_lexer": "ipython3",
   "version": "3.7.6"
  }
 },
 "nbformat": 4,
 "nbformat_minor": 4
}
