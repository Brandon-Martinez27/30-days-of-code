{
 "cells": [
  {
   "cell_type": "markdown",
   "metadata": {},
   "source": [
    "# Day 8: Dictionaries and Maps\n",
    "\n",
    "\n",
    "**Objective**\n",
    "\n",
    "Today, we're learning about Key-Value pair mappings using a Map or Dictionary data structure. Check out the Tutorial tab for learning materials and an instructional video!\n",
    "\n",
    "**Task**\n",
    "\n",
    "Given `n` names and phone numbers, assemble a phone book that maps friends' names to their respective phone numbers. You will then be given an unknown number of names to query your phone book for. For each  `name` queried, print the associated entry from your phone book on a new line in the form name=phoneNumber; if an entry for `name` is not found, print Not found instead.\n",
    "\n",
    "**Note**: Your phone book should be a Dictionary/Map/HashMap data structure.\n",
    "\n",
    "**Input Format**\n",
    "\n",
    "The first line contains an integer, `n`, denoting the number of entries in the phone book. \n",
    "Each of the `n` subsequent lines describes an entry in the form of `2` space-separated values on a single line. The first value is a friend's name, and the second value is an `8`-digit phone number.\n",
    "After the `n` lines of phone book entries, there are an unknown number of lines of queries. Each line (query) contains a `name` to look up, and you must continue reading lines until there is no more input.\n",
    "\n",
    "**Note**: Names consist of lowercase English alphabetic letters and are first names only.\n",
    "\n",
    "**Constraints**\n",
    "- $1  \\leq \\ n  \\leq \\ 10^5$\n",
    "- $1  \\leq \\ queries  \\leq \\ 10^5$\n",
    "\n",
    "**Output Format**\n",
    "\n",
    "On a new line for each query, print Not found if the name has no corresponding entry in the phone book; otherwise, print the full `name` and `phoneNumber` in the format name=phoneNumber.\n",
    "\n",
    "**Sample Input**\n",
    "\n",
    "3\n",
    "\n",
    "sam 99912222\n",
    "\n",
    "tom 11122222\n",
    "\n",
    "harry 12299933\n",
    "\n",
    "sam\n",
    "\n",
    "edward\n",
    "\n",
    "harry\n",
    "\n",
    "**Sample Output**\n",
    "\n",
    "sam=99912222\n",
    "\n",
    "Not found\n",
    "\n",
    "harry=12299933"
   ]
  },
  {
   "cell_type": "code",
   "execution_count": null,
   "metadata": {
    "scrolled": true
   },
   "outputs": [
    {
     "name": "stdout",
     "output_type": "stream",
     "text": [
      "1\n",
      "sam 99912222\n",
      "sam\n",
      "sam=99912222\n",
      "daf\n",
      "Not found\n"
     ]
    }
   ],
   "source": [
    "n = int(input())\n",
    "\n",
    "ph_book = {}\n",
    "for i in range(0,n):\n",
    "    entry = input()\n",
    "    x = entry.split()\n",
    "    ph_book[x[0]] = x[1]\n",
    "    \n",
    "while True:\n",
    "    try: \n",
    "        entry = str(input())\n",
    "        if entry in ph_book:\n",
    "            print(entry + '=' + ph_book[entry])\n",
    "        else:\n",
    "            print('Not found')\n",
    "    except:\n",
    "        break"
   ]
  },
  {
   "cell_type": "code",
   "execution_count": 11,
   "metadata": {},
   "outputs": [
    {
     "name": "stdout",
     "output_type": "stream",
     "text": [
      "1\n",
      "sam 99912222\n"
     ]
    },
    {
     "data": {
      "text/plain": [
       "{'sam': '99912222'}"
      ]
     },
     "execution_count": 11,
     "metadata": {},
     "output_type": "execute_result"
    }
   ],
   "source": []
  },
  {
   "cell_type": "code",
   "execution_count": null,
   "metadata": {},
   "outputs": [],
   "source": []
  }
 ],
 "metadata": {
  "kernelspec": {
   "display_name": "Python 3",
   "language": "python",
   "name": "python3"
  },
  "language_info": {
   "codemirror_mode": {
    "name": "ipython",
    "version": 3
   },
   "file_extension": ".py",
   "mimetype": "text/x-python",
   "name": "python",
   "nbconvert_exporter": "python",
   "pygments_lexer": "ipython3",
   "version": "3.7.6"
  }
 },
 "nbformat": 4,
 "nbformat_minor": 4
}
