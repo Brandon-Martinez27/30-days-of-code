{
 "cells": [
  {
   "cell_type": "markdown",
   "metadata": {},
   "source": [
    "# Day 11: 2D Arrays\n",
    "\n",
    "**Objective**\n",
    "\n",
    "Today, we are building on our knowledge of arrays by adding another dimension. Check out the Tutorial tab for learning materials and an instructional video.\n",
    "\n",
    "**Context**\n",
    " \n",
    "Given a 6 x 6 2D Array, A:\n",
    "\n",
    "`1 1 1 0 0 0\n",
    " 0 1 0 0 0 0\n",
    " 1 1 1 0 0 0\n",
    " 0 0 0 0 0 0\n",
    " 0 0 0 0 0 0\n",
    " 0 0 0 0 0 0`\n",
    " \n",
    "We define an hourglass in A to be a subset of values with indices falling in this pattern in A's graphical representation:\n",
    "\n",
    "`a b c\n",
    "   d\n",
    " e f g`\n",
    " \n",
    "There are 16 hourglasses in A, and an hourglass sum is the sum of an hourglass' values.\n",
    "\n",
    "**Task**\n",
    "\n",
    "Calculate the hourglass sum for every hourglass in A, then print the maximum hourglass sum.\n",
    "\n",
    "**Example**\n",
    "\n",
    "In the array shown above, the maximum hourglass sum is 7 for the hourglass in the top left corner.\n",
    "\n",
    "**Input Format**\n",
    "\n",
    "There are 6 lines of input, where each line contains 6 space-separated integers that describe the 2D Array A.\n",
    "\n",
    "**Constraints**\n",
    "- $-9  \\leq \\ A[i][j]  \\leq \\ 9$\n",
    "- $0  \\leq \\ i, j \\leq \\ 5$\n",
    "\n",
    "**Output Format**\n",
    "\n",
    "Print the maximum hourglass sum in A.\n",
    "\n",
    "**Sample Input**\n",
    "\n",
    "`1 1 1 0 0 0\n",
    " 0 1 0 0 0 0\n",
    " 1 1 1 0 0 0\n",
    " 0 0 2 4 4 0\n",
    " 0 0 0 2 0 0\n",
    " 0 0 1 2 4 0`\n",
    "\n",
    "**Sample Output**\n",
    "\n",
    "1\n",
    "\n",
    "**Explanation**\n",
    "\n",
    "A contains the following hourglasses:\n",
    "\n",
    "`1 1 1   1 1 0   1 0 0   0 0 0\n",
    "   1       0       0       0\n",
    " 1 1 1   1 1 0   1 0 0   0 0 0`\n",
    "\n",
    "`0 1 0   1 0 0   0 0 0   0 0 0\n",
    "   1       1       0       0\n",
    " 0 0 2   0 2 4   2 4 4   4 4 0`\n",
    "\n",
    "`1 1 1   1 1 0   1 0 0   0 0 0\n",
    "   0       2       4       4\n",
    " 0 0 0   0 0 2   0 2 0   2 0 0`\n",
    "\n",
    "`0 0 2   0 2 4   2 4 4   4 4 0\n",
    "   0       0       2       0\n",
    " 0 0 1   0 1 2   1 2 4   2 4 0`\n",
    " \n",
    "The hourglass with the maximum sum (19) is:\n",
    "\n",
    "`2 4 4\n",
    "   2\n",
    " 1 2 4`"
   ]
  },
  {
   "cell_type": "code",
   "execution_count": 3,
   "metadata": {
    "scrolled": true
   },
   "outputs": [
    {
     "name": "stdout",
     "output_type": "stream",
     "text": [
      "0 1 2 3 4 5\n",
      "6 7 8 9 0 1\n",
      "2 3 4 5 6 7\n",
      "8 9 0 1 2 3\n",
      "4 5 6 7 8 9\n",
      "0 1 2 3 4 5\n"
     ]
    }
   ],
   "source": [
    "#!/bin/python3\n",
    "\n",
    "import math\n",
    "import os\n",
    "import random\n",
    "import re\n",
    "import sys\n",
    "\n",
    "\n",
    "\n",
    "if __name__ == '__main__':\n",
    "    arr = []\n",
    "\n",
    "    for _ in range(6):\n",
    "        arr.append(list(map(int, input().rstrip().split())))\n",
    "        \n",
    "res = []\n",
    "\n",
    "for x in range(0, 4):\n",
    "    for y in range(0, 4):\n",
    "        s = sum(arr[x][y:y+3]) + arr[x+1][y+1] + sum(arr[x+2][y:y+3])\n",
    "        res.append(s)\n",
    "\n",
    "print(max(res))"
   ]
  },
  {
   "cell_type": "markdown",
   "metadata": {},
   "source": [
    "---\n",
    "### scratch work"
   ]
  },
  {
   "cell_type": "code",
   "execution_count": 96,
   "metadata": {},
   "outputs": [
    {
     "data": {
      "text/plain": [
       "[[0, 1, 2, 3, 4, 5],\n",
       " [6, 7, 8, 9, 0, 1],\n",
       " [2, 3, 4, 5, 6, 7],\n",
       " [8, 9, 0, 1, 2, 3],\n",
       " [4, 5, 6, 7, 8, 9],\n",
       " [0, 1, 2, 3, 4, 5]]"
      ]
     },
     "execution_count": 96,
     "metadata": {},
     "output_type": "execute_result"
    }
   ],
   "source": [
    "arr"
   ]
  },
  {
   "cell_type": "code",
   "execution_count": 116,
   "metadata": {},
   "outputs": [
    {
     "name": "stdout",
     "output_type": "stream",
     "text": [
      "44\n"
     ]
    }
   ],
   "source": [
    "res = []\n",
    "\n",
    "for x in range(0, 4):\n",
    "    for y in range(0, 4):\n",
    "        s = sum(arr[x][y:y+3]) + arr[x+1][y+1] + sum(arr[x+2][y:y+3])\n",
    "        res.append(s)\n",
    "\n",
    "print(max(res))"
   ]
  },
  {
   "cell_type": "code",
   "execution_count": null,
   "metadata": {},
   "outputs": [],
   "source": [
    "# 36 individual numbers\n",
    "# 16 iterations (hourglasses-totals)\n",
    "# 4 iterations per row\n",
    "# 4 columns \n",
    "\n",
    "# Row 1\n",
    "# 0, 1, 2\n",
    "#  , 7, \n",
    "# 12, 13, 14"
   ]
  },
  {
   "cell_type": "code",
   "execution_count": 54,
   "metadata": {},
   "outputs": [
    {
     "data": {
      "text/plain": [
       "{'string1': 'Hello',\n",
       " 'string2': 'Hello',\n",
       " 'string3': 'Hello',\n",
       " 'string4': 'Hello',\n",
       " 'string5': 'Hello',\n",
       " 'string6': 'Hello',\n",
       " 'string7': 'Hello',\n",
       " 'string8': 'Hello',\n",
       " 'string9': 'Hello'}"
      ]
     },
     "execution_count": 54,
     "metadata": {},
     "output_type": "execute_result"
    }
   ],
   "source": [
    "d = {}\n",
    "for x in range(1, 10):\n",
    "    d[\"string{0}\".format(x)] = \"Hello\"\n",
    "d"
   ]
  },
  {
   "cell_type": "code",
   "execution_count": 98,
   "metadata": {},
   "outputs": [],
   "source": [
    "d = {}\n",
    "count = 0\n",
    "for i in range(0,6):\n",
    "    for j in range(0,6):\n",
    "        count += 1\n",
    "        d[\"{0}\".format(count)] = arr[i][j]"
   ]
  },
  {
   "cell_type": "code",
   "execution_count": 99,
   "metadata": {},
   "outputs": [
    {
     "data": {
      "text/plain": [
       "{'1': 0,\n",
       " '2': 1,\n",
       " '3': 2,\n",
       " '4': 3,\n",
       " '5': 4,\n",
       " '6': 5,\n",
       " '7': 6,\n",
       " '8': 7,\n",
       " '9': 8,\n",
       " '10': 9,\n",
       " '11': 0,\n",
       " '12': 1,\n",
       " '13': 2,\n",
       " '14': 3,\n",
       " '15': 4,\n",
       " '16': 5,\n",
       " '17': 6,\n",
       " '18': 7,\n",
       " '19': 8,\n",
       " '20': 9,\n",
       " '21': 0,\n",
       " '22': 1,\n",
       " '23': 2,\n",
       " '24': 3,\n",
       " '25': 4,\n",
       " '26': 5,\n",
       " '27': 6,\n",
       " '28': 7,\n",
       " '29': 8,\n",
       " '30': 9,\n",
       " '31': 0,\n",
       " '32': 1,\n",
       " '33': 2,\n",
       " '34': 3,\n",
       " '35': 4,\n",
       " '36': 5}"
      ]
     },
     "execution_count": 99,
     "metadata": {},
     "output_type": "execute_result"
    }
   ],
   "source": [
    "d"
   ]
  },
  {
   "cell_type": "code",
   "execution_count": 104,
   "metadata": {},
   "outputs": [
    {
     "ename": "TypeError",
     "evalue": "unhashable type: 'slice'",
     "output_type": "error",
     "traceback": [
      "\u001b[0;31m---------------------------------------------------------------------------\u001b[0m",
      "\u001b[0;31mTypeError\u001b[0m                                 Traceback (most recent call last)",
      "\u001b[0;32m<ipython-input-104-6c29bbc86102>\u001b[0m in \u001b[0;36m<module>\u001b[0;34m\u001b[0m\n\u001b[0;32m----> 1\u001b[0;31m \u001b[0md\u001b[0m\u001b[0;34m[\u001b[0m\u001b[0;36m0\u001b[0m\u001b[0;34m:\u001b[0m\u001b[0;36m2\u001b[0m\u001b[0;34m]\u001b[0m\u001b[0;34m\u001b[0m\u001b[0;34m\u001b[0m\u001b[0m\n\u001b[0m",
      "\u001b[0;31mTypeError\u001b[0m: unhashable type: 'slice'"
     ]
    }
   ],
   "source": [
    "d[0:2]"
   ]
  },
  {
   "cell_type": "code",
   "execution_count": null,
   "metadata": {},
   "outputs": [],
   "source": [
    "d = {}\n",
    "count = 0\n",
    "for i in range(0,6):  \n",
    "    for j in range(0,6):\n",
    "        count += 1\n",
    "        while True:\n",
    "            try:\n",
    "                d[\"hg{0}\".format(count)] = (arr[i][j] + arr[i][j+1] + arr[i][j+2] + arr[i+1][j+2] + arr[i+2][j+1] + arr[i+2][j+2] + arr[i+2][j+3])\n",
    "                print(count, d[\"hg{0}\".format(count)])\n",
    "            except IndexError:\n",
    "                d[\"hg{0}\".format(count)] = (arr[i+1][j] + arr[i+1][j+1] + arr[i+1][j+2] + arr[i+2][j+2] + arr[i+3][j+1] + arr[i+3][j+2] + arr[i+3][j+3])\n",
    "                print(count, d[\"hg{0}\".format(count)])\n",
    "            except IndexError:\n",
    "                d[\"hg{0}\".format(count)] = (arr[i+2][j] + arr[i+2][j+1] + arr[i+2][j+2] + arr[i+3][j+2] + arr[i+4][j+1] + arr[i+4][j+2] + arr[i+4][j+3])\n",
    "                print(count, d[\"hg{0}\".format(count)])\n",
    "            except IndexError:\n",
    "                d[\"hg{0}\".format(count)] = (arr[i+3][j] + arr[i+3][j+1] + arr[i+3][j+2] + arr[i+4][j+2] + arr[i+5][j+1] + arr[i+5][j+2] + arr[i+5][j+3])\n",
    "                print(count, d[\"hg{0}\".format(count)])\n",
    "            else:\n",
    "                break"
   ]
  },
  {
   "cell_type": "code",
   "execution_count": 43,
   "metadata": {},
   "outputs": [
    {
     "data": {
      "text/plain": [
       "19"
      ]
     },
     "execution_count": 43,
     "metadata": {},
     "output_type": "execute_result"
    }
   ],
   "source": [
    "#first iteration-first line (hourglass)\n",
    "(\n",
    "arr[0][0] + arr[0][1] + arr[0][2]\\\n",
    "          + arr[1][1] + \\\n",
    "arr[2][0] + arr[2][1] + arr[2][2]\n",
    ")"
   ]
  },
  {
   "cell_type": "code",
   "execution_count": null,
   "metadata": {},
   "outputs": [],
   "source": [
    "arr[i][j] + arr[i][j+1] + arr[i][j+2] + arr[i+1][j+2] + arr[i+2][j+1] + arr[i+2][j+2] + arr[i+2][j+3]"
   ]
  },
  {
   "cell_type": "code",
   "execution_count": 44,
   "metadata": {},
   "outputs": [
    {
     "data": {
      "text/plain": [
       "26"
      ]
     },
     "execution_count": 44,
     "metadata": {},
     "output_type": "execute_result"
    }
   ],
   "source": [
    "#fifth iteration-second line (hourglass)\n",
    "(\n",
    "arr[0][1] + arr[0][2] + arr[0][3]\n",
    "          + arr[1][2] + \\\n",
    "arr[2][1] + arr[2][2] + arr[2][3]\n",
    ")"
   ]
  },
  {
   "cell_type": "code",
   "execution_count": 73,
   "metadata": {},
   "outputs": [
    {
     "data": {
      "text/plain": [
       "[2, 3, 4, 5, 6, 7]"
      ]
     },
     "execution_count": 73,
     "metadata": {},
     "output_type": "execute_result"
    }
   ],
   "source": [
    "arr[2]"
   ]
  },
  {
   "cell_type": "code",
   "execution_count": null,
   "metadata": {},
   "outputs": [],
   "source": []
  }
 ],
 "metadata": {
  "kernelspec": {
   "display_name": "Python 3",
   "language": "python",
   "name": "python3"
  },
  "language_info": {
   "codemirror_mode": {
    "name": "ipython",
    "version": 3
   },
   "file_extension": ".py",
   "mimetype": "text/x-python",
   "name": "python",
   "nbconvert_exporter": "python",
   "pygments_lexer": "ipython3",
   "version": "3.7.6"
  }
 },
 "nbformat": 4,
 "nbformat_minor": 4
}
