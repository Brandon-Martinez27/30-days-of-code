{
 "cells": [
  {
   "cell_type": "markdown",
   "metadata": {},
   "source": [
    "# Day 7: Arrays\n",
    "\n",
    "\n",
    "**Objective**\n",
    "\n",
    "Today, we will learn about the Array data structure. Check out the Tutorial tab for learning materials and an instructional video\n",
    "\n",
    "**Task**\n",
    "\n",
    "Given an array, A, of N integers, print A's elements in reverse order as a single line of space-separated numbers.\n",
    "\n",
    "\n",
    "**Example**\n",
    "\n",
    "A = \\[1, 2, 3, 4\\]\n",
    "\n",
    "Print 4 3 2 1. Each integer is separated by one space.\n",
    "\n",
    "**Input Format**\n",
    "\n",
    "The first line contains an integer, N (the size of our array). \n",
    "The second line contains N space-separated integers that describe array A's elements.\n",
    "\n",
    "**Constraints**\n",
    "- $1  \\leq \\ N  \\leq \\ 1000$\n",
    "- $1  \\leq \\ A[i]  \\leq \\ 10000$, where $A[i]$ is the $i^{th}$ integer in the array.\n",
    "\n",
    "**Output Format**\n",
    "\n",
    "Print the elements of array  in reverse order as a single line of space-separated numbers.\n",
    "\n",
    "**Sample Input**\n",
    "\n",
    "4\n",
    "\n",
    "1 4 3 2\n",
    "\n",
    "**Sample Output**\n",
    "\n",
    "2 3 4 1"
   ]
  },
  {
   "cell_type": "code",
   "execution_count": 31,
   "metadata": {},
   "outputs": [
    {
     "name": "stdout",
     "output_type": "stream",
     "text": [
      "3\n",
      "1 2 3\n"
     ]
    },
    {
     "data": {
      "text/plain": [
       "'3 2 1 '"
      ]
     },
     "execution_count": 31,
     "metadata": {},
     "output_type": "execute_result"
    }
   ],
   "source": [
    "#!/bin/python3\n",
    "\n",
    "import math\n",
    "import os\n",
    "import random\n",
    "import re\n",
    "import sys\n",
    "\n",
    "\n",
    "\n",
    "if __name__ == '__main__':\n",
    "    n = int(input())\n",
    "\n",
    "    arr = list(map(int, input().rstrip().split()))\n",
    "string = ''\n",
    "arr.reverse()\n",
    "for a in arr:\n",
    "    string += str(a) + ' '\n",
    "string"
   ]
  }
 ],
 "metadata": {
  "kernelspec": {
   "display_name": "Python 3",
   "language": "python",
   "name": "python3"
  },
  "language_info": {
   "codemirror_mode": {
    "name": "ipython",
    "version": 3
   },
   "file_extension": ".py",
   "mimetype": "text/x-python",
   "name": "python",
   "nbconvert_exporter": "python",
   "pygments_lexer": "ipython3",
   "version": "3.7.6"
  }
 },
 "nbformat": 4,
 "nbformat_minor": 4
}
