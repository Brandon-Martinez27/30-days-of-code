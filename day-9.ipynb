{
 "cells": [
  {
   "cell_type": "markdown",
   "metadata": {},
   "source": [
    "# Day 8: Recursion 3\n",
    "\n",
    "**Objective**\n",
    "\n",
    "Today, we are learning about an algorithmic concept called recursion. Check out the Tutorial tab for learning materials and an instructional video.\n",
    "\n",
    "**Function Description**\n",
    " \n",
    "Complete the factorial function in the editor below. Be sure to use recursion.\n",
    "factorial has the following paramter:\n",
    "- int n: an integer\n",
    "\n",
    "**Returns**\n",
    "- int: the factorial of n\n",
    "**Note**: If you fail to use recursion or fail to name your recursive function factorial or Factorial, you will get a score of 0.\n",
    "\n",
    "**Input Format**\n",
    "\n",
    "A single integer, n (the argument to pass to factorial).\n",
    "\n",
    "**Constraints**\n",
    "- $2  \\leq \\ n  \\leq \\ 12$\n",
    "\n",
    "**Sample Input**\n",
    "\n",
    "3\n",
    "\n",
    "**Sample Output**\n",
    "\n",
    "6\n",
    "\n",
    "Explanation\n",
    "Consider the following steps. After the recursive calls from step 1 to 3, results are accumulated from step 3 to 1.\n",
    "1. $factorial(3) = 3 x factorial(2) = 3 x 2 = 6$\n",
    "2. $factorial(2) = 2 x factorial(1) = 2 x 1 = 2$\n",
    "3. $factorial(1) = 1$"
   ]
  },
  {
   "cell_type": "code",
   "execution_count": 9,
   "metadata": {
    "scrolled": true
   },
   "outputs": [
    {
     "name": "stdout",
     "output_type": "stream",
     "text": [
      "1 1\n",
      "2 2\n",
      "3 6\n",
      "4 24\n",
      "5 120\n",
      "6 720\n",
      "7 5040\n",
      "8 40320\n",
      "9 362880\n",
      "10 3628800\n",
      "11 39916800\n",
      "12 479001600\n"
     ]
    }
   ],
   "source": [
    "#!/bin/python3\n",
    "\n",
    "import math\n",
    "import os\n",
    "import random\n",
    "import re\n",
    "import sys\n",
    "\n",
    "# Complete the factorial function below.\n",
    "def factorial(n):\n",
    "    for i in range(n-1, 1, -1):\n",
    "        n *= i\n",
    "    return n\n",
    "\n",
    "for x in range(1, 13):\n",
    "    print(x, factorial(x))"
   ]
  },
  {
   "cell_type": "code",
   "execution_count": 4,
   "metadata": {},
   "outputs": [
    {
     "data": {
      "text/plain": [
       "120"
      ]
     },
     "execution_count": 4,
     "metadata": {},
     "output_type": "execute_result"
    }
   ],
   "source": [
    "n=5\n",
    "for i in range(n-1, 1, -1):\n",
    "    n *= i\n",
    "n"
   ]
  },
  {
   "cell_type": "code",
   "execution_count": null,
   "metadata": {},
   "outputs": [],
   "source": [
    "n = 4\n"
   ]
  }
 ],
 "metadata": {
  "kernelspec": {
   "display_name": "Python 3",
   "language": "python",
   "name": "python3"
  },
  "language_info": {
   "codemirror_mode": {
    "name": "ipython",
    "version": 3
   },
   "file_extension": ".py",
   "mimetype": "text/x-python",
   "name": "python",
   "nbconvert_exporter": "python",
   "pygments_lexer": "ipython3",
   "version": "3.7.6"
  }
 },
 "nbformat": 4,
 "nbformat_minor": 4
}
