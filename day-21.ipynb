{
 "cells": [
  {
   "cell_type": "markdown",
   "metadata": {},
   "source": [
    "# Day 21: Generics\n",
    "\n",
    "\n",
    "**Objective**\n",
    "\n",
    "Today we're discussing Generics; be aware that not all languages support this construct, so fewer languages are enabled for this challenge. Check out the Tutorial tab for learning materials and an instructional video!\n",
    "\n",
    "**Task** \n",
    "\n",
    "Write a single generic function named printArray; this function must take an array of generic elements as a parameter (the exception to this is C++, which takes a vector). The locked Solution class in your editor tests your function.\n",
    "\n",
    "**Note**: You must use generics to solve this challenge. Do not write overloaded functions.\n",
    "\n",
    "**Input Format**\n",
    "\n",
    "The locked Solution class in your editor will pass different types of arrays to your printArray function.\n",
    "\n",
    "**Constraints**\n",
    "- You must have exactly 1 function named printArray\n",
    "\n",
    "**Output Format**\n",
    "Your printArray function should print each element of its generic array parameter on a new line."
   ]
  },
  {
   "cell_type": "raw",
   "metadata": {
    "scrolled": true
   },
   "source": [
    "#include <iostream>\n",
    "#include <vector>\n",
    "#include <string>\n",
    "using namespace std;\n",
    "\n",
    "/**\n",
    "*    Name: printArray\n",
    "*    Print each element of the generic vector on a new line. Do not return anything.\n",
    "*    @param A generic vector\n",
    "**/\n",
    "\n",
    "template <class T>\n",
    "void printArray(vector<T> vec){\n",
    "\n",
    "   for(int i=0; i<vec.size(); i++)\n",
    "   cout<<vec[i]<<endl;\n",
    "\n",
    "}\n",
    "\n",
    "int main() {\n",
    "   int n;\n",
    "   \n",
    "   cin >> n;\n",
    "   vector<int> int_vector(n);\n",
    "   for (int i = 0; i < n; i++) {\n",
    "      int value;\n",
    "      cin >> value;\n",
    "      int_vector[i] = value;\n",
    "   }\n",
    "   \n",
    "cin >> n;\n",
    "   vector<string> string_vector(n);\n",
    "   for (int i = 0; i < n; i++) {\n",
    "      string value;\n",
    "      cin >> value;\n",
    "      string_vector[i] = value;\n",
    "   }\n",
    "\n",
    "   printArray<int>(int_vector);\n",
    "   printArray<string>(string_vector);\n",
    "\n",
    "   return 0;\n",
    "}"
   ]
  },
  {
   "cell_type": "markdown",
   "metadata": {},
   "source": [
    "---\n",
    "### NOTE: Python doesn't support 'generics' according to hacker rank so I posted the C++ solution that was posted by \"yashpalsinghdeo1\" in the discussion board."
   ]
  },
  {
   "cell_type": "code",
   "execution_count": null,
   "metadata": {},
   "outputs": [],
   "source": []
  }
 ],
 "metadata": {
  "kernelspec": {
   "display_name": "Python 3",
   "language": "python",
   "name": "python3"
  },
  "language_info": {
   "codemirror_mode": {
    "name": "ipython",
    "version": 3
   },
   "file_extension": ".py",
   "mimetype": "text/x-python",
   "name": "python",
   "nbconvert_exporter": "python",
   "pygments_lexer": "ipython3",
   "version": "3.7.6"
  }
 },
 "nbformat": 4,
 "nbformat_minor": 4
}
