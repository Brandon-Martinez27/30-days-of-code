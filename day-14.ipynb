{
 "cells": [
  {
   "cell_type": "markdown",
   "metadata": {},
   "source": [
    "# Day 14: Scope\n",
    "\n",
    "**Objective**\n",
    "\n",
    "Today we're discussing scope. Check out the Tutorial tab for learning materials and an instructional video!\n",
    "\n",
    "The absolute difference between two integers, a and b, is written as |a-b|. The maximum absolute difference between two integers in a set of positive integers, elements, is the largest absolute difference between any two integers in \\_\\_elements.\n",
    "\n",
    "The Difference class is started for you in the editor. It has a private integer array (elements) for storing N non-negative integers, and a public integer (maximumDifference) for storing the maximum absolute difference.\n",
    "\n",
    "**Task**\n",
    "\n",
    "Complete the Difference class by writing the following:\n",
    "- A class constructor that takes an array of integers as a parameter and saves it to the \\_\\_elements instance variable.\n",
    "- A computeDifference method that finds the maximum absolute difference between any 2 numbers in \\_\\_elements and stores it in the maximumDifference instance variable.\n",
    "\n",
    "**Input Format**\n",
    "\n",
    "You are not responsible for reading any input from stdin. The locked Solution class in the editor reads in 2 lines of input. The first line contains N, the size of the elements array. The second line has N space-separated integers that describe the \\_\\_elements array.\n",
    "\n",
    "**Constraints**\n",
    "- $1  \\leq \\ N  \\leq \\ 10$\n",
    "- $1  \\leq \\ __elements[i] \\leq \\ 100, where 0 \\leq \\ i \\leq \\ N-1$\n",
    "\n",
    "**Output Format**\n",
    "\n",
    "You are not responsible for printing any output; the Solution class will print the value of the maximumDifference instance variable.\n",
    "\n",
    "**Sample Input**\n",
    "\n",
    "STDIN   Function\n",
    " -----   --------\n",
    " \n",
    " 3       __elements[] size N = 3\n",
    " \n",
    " 1 2 5   __elements = [1, 2, 5]\n",
    "\n",
    "**Sample Output**\n",
    "\n",
    "`4`"
   ]
  },
  {
   "cell_type": "code",
   "execution_count": 2,
   "metadata": {
    "scrolled": true
   },
   "outputs": [
    {
     "name": "stdout",
     "output_type": "stream",
     "text": [
      "3\n",
      "1 2 5\n",
      "4\n"
     ]
    }
   ],
   "source": [
    "class Difference:\n",
    "    def __init__(self, a):\n",
    "        self.__elements = a\n",
    "\n",
    "    # Add your code here\n",
    "    def computeDifference(self):\n",
    "        self.maximumDifference = max(self.__elements) - min(self.__elements)\n",
    "# End of Difference class\n",
    "\n",
    "_ = input()\n",
    "a = [int(e) for e in input().split(' ')]\n",
    "\n",
    "d = Difference(a)\n",
    "d.computeDifference()\n",
    "\n",
    "print(d.maximumDifference)"
   ]
  },
  {
   "cell_type": "markdown",
   "metadata": {},
   "source": [
    "---\n",
    "### scratch work"
   ]
  },
  {
   "cell_type": "code",
   "execution_count": null,
   "metadata": {},
   "outputs": [],
   "source": []
  }
 ],
 "metadata": {
  "kernelspec": {
   "display_name": "Python 3",
   "language": "python",
   "name": "python3"
  },
  "language_info": {
   "codemirror_mode": {
    "name": "ipython",
    "version": 3
   },
   "file_extension": ".py",
   "mimetype": "text/x-python",
   "name": "python",
   "nbconvert_exporter": "python",
   "pygments_lexer": "ipython3",
   "version": "3.7.6"
  }
 },
 "nbformat": 4,
 "nbformat_minor": 4
}
