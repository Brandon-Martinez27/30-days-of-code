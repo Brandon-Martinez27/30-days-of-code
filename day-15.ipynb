{
 "cells": [
  {
   "cell_type": "markdown",
   "metadata": {},
   "source": [
    "# Day 15: Linked List\n",
    "\n",
    "**Objective**\n",
    "\n",
    "\n",
    "**Task**\n",
    "\n",
    "\n",
    "**Input Format**\n",
    "\n",
    "\n",
    "**Constraints**\n",
    "- $1  \\leq \\ N  \\leq \\ 10$\n",
    "\n",
    "**Output Format**\n",
    "\n",
    "\n",
    "**Sample Input**\n",
    "\n",
    "\n",
    "**Sample Output**\n",
    "\n"
   ]
  },
  {
   "cell_type": "code",
   "execution_count": null,
   "metadata": {
    "scrolled": true
   },
   "outputs": [],
   "source": []
  },
  {
   "cell_type": "markdown",
   "metadata": {},
   "source": [
    "---\n",
    "### scratch work"
   ]
  },
  {
   "cell_type": "code",
   "execution_count": null,
   "metadata": {},
   "outputs": [],
   "source": []
  }
 ],
 "metadata": {
  "kernelspec": {
   "display_name": "Python 3",
   "language": "python",
   "name": "python3"
  },
  "language_info": {
   "codemirror_mode": {
    "name": "ipython",
    "version": 3
   },
   "file_extension": ".py",
   "mimetype": "text/x-python",
   "name": "python",
   "nbconvert_exporter": "python",
   "pygments_lexer": "ipython3",
   "version": "3.7.6"
  }
 },
 "nbformat": 4,
 "nbformat_minor": 4
}
