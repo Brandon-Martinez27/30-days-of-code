{
 "cells": [
  {
   "cell_type": "markdown",
   "metadata": {},
   "source": [
    "# Day 15: Linked List\n",
    "\n",
    "**Objective**\n",
    "\n",
    "Today we will work with a Linked List. Check out the Tutorial tab for learning materials and an instructional video.\n",
    "\n",
    "A Node class is provided for you in the editor. A Node object has an integer data field, data, and a Node instance pointer, next, pointing to another node (i.e.: the next node in the list).\n",
    "\n",
    "A Node insert function is also declared in your editor. It has two parameters: a pointer, head, pointing to the first node of a linked list, and an integer, data, that must be added to the end of the list as a new Node object.\n",
    "\n",
    "**Task**\n",
    "\n",
    "Complete the insert function in your editor so that it creates a new Node (pass data as the Node constructor argument) and inserts it at the tail of the linked list referenced by the  parameter. Once the new node is added, return the reference to the head node.\n",
    "\n",
    "**Note**: The head argument is null for an empty list.\n",
    "\n",
    "**Input Format**\n",
    "\n",
    "The first line contains T, the number of elements to insert. \n",
    "Each of the next T lines contains an integer to insert at the end of the list.\n",
    "\n",
    "**Constraints**\n",
    "- $-  \\leq \\ None  \\leq \\ -$\n",
    "\n",
    "**Output Format**\n",
    "\n",
    "Return a reference to the head node of the linked list.\n",
    "\n",
    "**Sample Input**\n",
    "\n",
    "STDIN   Function\n",
    "-----   --------\n",
    "4       T = 4\n",
    "2       first data = 2\n",
    "3\n",
    "4\n",
    "1       fourth data = 1\n",
    "\n",
    "**Sample Output**\n",
    "\n",
    "2 3 4 1"
   ]
  },
  {
   "cell_type": "code",
   "execution_count": 7,
   "metadata": {
    "scrolled": true
   },
   "outputs": [
    {
     "name": "stdout",
     "output_type": "stream",
     "text": [
      "4\n",
      "2\n",
      "3\n",
      "4\n",
      "1\n",
      "2 3 4 1 "
     ]
    }
   ],
   "source": [
    "class Node:\n",
    "    def __init__(self,data):\n",
    "        self.data = data\n",
    "        self.next = None \n",
    "class Solution: \n",
    "    def display(self,head):\n",
    "        current = head\n",
    "        while current:\n",
    "            print(current.data,end=' ')\n",
    "            current = current.next\n",
    "\n",
    "    def insert(self,head,data): \n",
    "    #Complete this method\n",
    "        if head is None:\n",
    "            head = Node(data)\n",
    "            self.tail = head\n",
    "        else: \n",
    "            node = Node(data)\n",
    "            self.tail.next = node\n",
    "            self.tail = node\n",
    "        return head\n",
    "        \n",
    "mylist= Solution()\n",
    "T=int(input())\n",
    "head=None\n",
    "for i in range(T):\n",
    "    data=int(input())\n",
    "    head=mylist.insert(head,data)    \n",
    "mylist.display(head); "
   ]
  },
  {
   "cell_type": "markdown",
   "metadata": {},
   "source": [
    "---\n",
    "### scratch work"
   ]
  },
  {
   "cell_type": "code",
   "execution_count": null,
   "metadata": {},
   "outputs": [],
   "source": []
  }
 ],
 "metadata": {
  "kernelspec": {
   "display_name": "Python 3",
   "language": "python",
   "name": "python3"
  },
  "language_info": {
   "codemirror_mode": {
    "name": "ipython",
    "version": 3
   },
   "file_extension": ".py",
   "mimetype": "text/x-python",
   "name": "python",
   "nbconvert_exporter": "python",
   "pygments_lexer": "ipython3",
   "version": "3.7.6"
  }
 },
 "nbformat": 4,
 "nbformat_minor": 4
}
