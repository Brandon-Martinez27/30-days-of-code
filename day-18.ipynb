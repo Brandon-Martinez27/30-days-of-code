{
 "cells": [
  {
   "cell_type": "markdown",
   "metadata": {},
   "source": [
    "# Day 18: Queues and Stacks\n",
    "\n",
    "\n",
    "**Objective**\n",
    "\n",
    "Welcome to Day 18! Today we're learning about Stacks and Queues. Check out the Tutorial tab for learning materials and an instructional video!\n",
    "A palindrome is a word, phrase, number, or other sequence of characters which reads the same backwards and forwards. Can you determine if a given string, , is a palindrome?\n",
    "To solve this challenge, we must first take each character in , enqueue it in a queue, and also push that same character onto a stack. Once that's done, we must dequeue the first character from the queue and pop the top character off the stack, then compare the two characters to see if they are the same; as long as the characters match, we continue dequeueing, popping, and comparing each character until our containers are empty (a non-match means s isn't a palindrome).\n",
    "Write the following declarations and implementations:\n",
    "1. Two instance variables: one for your stack, and one for your queue.\n",
    "2. A void pushCharacter(char ch) method that pushes a character onto a stack.\n",
    "3. A void enqueueCharacter(char ch) method that enqueues a character in the queue instance variable.\n",
    "4. A char popCharacter() method that pops and returns the character at the top of the stack instance variable.\n",
    "5. A char dequeueCharacter() method that dequeues and returns the first character in the queue instance variable.\n",
    "\n",
    "**Input Format**\n",
    "\n",
    "You do not need to read anything from stdin. The locked stub code in your editor reads a single line containing string s. It then calls the methods specified above to pass each character to your instance variables.\n",
    "\n",
    "**Constraints**\n",
    "- s is composed of lowercase English letters.\n",
    "\n",
    "**Output Format**\n",
    "\n",
    "You are not responsible for printing any output to stdout. \n",
    "If your code is correctly written and s is a palindrome, the locked stub code will print 'The word, s, is a palindrome.'; otherwise, it will print 'The word, s, is not a palindrome.' \n",
    "\n",
    "**Sample Input**\n",
    "\n",
    "racecar\n",
    "\n",
    "**Sample Output 0**\n",
    "\n",
    "The word, racecar, is a palindrome."
   ]
  },
  {
   "cell_type": "code",
   "execution_count": 2,
   "metadata": {
    "scrolled": true
   },
   "outputs": [
    {
     "name": "stdout",
     "output_type": "stream",
     "text": [
      "carrad\n",
      "The word, carrad, is not a palindrome.\n"
     ]
    }
   ],
   "source": [
    "import sys\n",
    "\n",
    "class Solution:\n",
    "    # Write your code here\n",
    "    def __init__(self):\n",
    "        self.mystack = list()\n",
    "        self.myqueue = list()\n",
    "        return(None)\n",
    "\n",
    "    def pushCharacter(self, char):\n",
    "        self.mystack.append(char)\n",
    "\n",
    "    def popCharacter(self):\n",
    "        return(self.mystack.pop(-1))\n",
    "\n",
    "    def enqueueCharacter(self, char):\n",
    "        self.myqueue.append(char)\n",
    "\n",
    "    def dequeueCharacter(self):\n",
    "        return(self.myqueue.pop(0))\n",
    "# read the string s\n",
    "s=input()\n",
    "#Create the Solution class object\n",
    "obj=Solution()   \n",
    "\n",
    "l=len(s)\n",
    "# push/enqueue all the characters of string s to stack\n",
    "for i in range(l):\n",
    "    obj.pushCharacter(s[i])\n",
    "    obj.enqueueCharacter(s[i])\n",
    "    \n",
    "isPalindrome=True\n",
    "'''\n",
    "pop the top character from stack\n",
    "dequeue the first character from queue\n",
    "compare both the characters\n",
    "''' \n",
    "for i in range(l // 2):\n",
    "    if obj.popCharacter()!=obj.dequeueCharacter():\n",
    "        isPalindrome=False\n",
    "        break\n",
    "#finally print whether string s is palindrome or not.\n",
    "if isPalindrome:\n",
    "    print(\"The word, \"+s+\", is a palindrome.\")\n",
    "else:\n",
    "    print(\"The word, \"+s+\", is not a palindrome.\")"
   ]
  },
  {
   "cell_type": "markdown",
   "metadata": {},
   "source": [
    "---\n",
    "### scratch work"
   ]
  },
  {
   "cell_type": "code",
   "execution_count": null,
   "metadata": {},
   "outputs": [],
   "source": []
  }
 ],
 "metadata": {
  "kernelspec": {
   "display_name": "Python 3",
   "language": "python",
   "name": "python3"
  },
  "language_info": {
   "codemirror_mode": {
    "name": "ipython",
    "version": 3
   },
   "file_extension": ".py",
   "mimetype": "text/x-python",
   "name": "python",
   "nbconvert_exporter": "python",
   "pygments_lexer": "ipython3",
   "version": "3.7.6"
  }
 },
 "nbformat": 4,
 "nbformat_minor": 4
}
