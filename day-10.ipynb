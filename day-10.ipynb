{
 "cells": [
  {
   "cell_type": "markdown",
   "metadata": {},
   "source": [
    "# Day 10: Binary Numbers\n",
    "\n",
    "**Objective**\n",
    "\n",
    "Today, we're working with binary numbers. Check out the Tutorial tab for learning materials and an instructional video!\n",
    "\n",
    "**Task**\n",
    " \n",
    "Given a base-10 integer, n, convert it to binary (base-2). Then find and print the base-10 integer denoting the maximum number of consecutive 1's in n's binary representation. When working with different bases, it is common to show the base as a subscript.\n",
    "\n",
    "**Example**\n",
    "\n",
    "n = 125\n",
    "\n",
    "The binary representation of $125_10$ is $1111101_2$. In base 10, there are  5 and 1 consecutive ones in two groups. Print the maximum, 5.\n",
    "\n",
    "**Input Format**\n",
    "\n",
    "A single integer, n.\n",
    "\n",
    "**Constraints**\n",
    "- $1  \\leq \\ n  \\leq \\ 10^6$\n",
    "\n",
    "**Output Format**\n",
    "\n",
    "Print a single base-10 integer that denotes the maximum number of consecutive 1's in the binary representation of n.\n",
    "\n",
    "**Sample Input 1**\n",
    "\n",
    "5\n",
    "\n",
    "**Sample Output 1**\n",
    "\n",
    "1\n",
    "\n",
    "**Sample Input 2**\n",
    "\n",
    "13\n",
    "\n",
    "**Sample Output 2**\n",
    "\n",
    "2\n",
    "\n",
    "**Explanation**\n",
    "\n",
    "Sample Case 1: \n",
    "\n",
    "The binary representation of $5_10$ is $101_2$, so the maximum number of consecutive 1's is 1.\n",
    "\n",
    "Sample Case 2: \n",
    "\n",
    "The binary representation of $13_10$ is $1101_2$, so the maximum number of consecutive 1's is 2."
   ]
  },
  {
   "cell_type": "code",
   "execution_count": 8,
   "metadata": {
    "scrolled": true
   },
   "outputs": [
    {
     "name": "stdout",
     "output_type": "stream",
     "text": [
      "6\n",
      "2\n"
     ]
    }
   ],
   "source": [
    "#!/bin/python3\n",
    "\n",
    "import math\n",
    "import os\n",
    "import random\n",
    "import re\n",
    "import sys\n",
    "\n",
    "\n",
    "\n",
    "def func(num):\n",
    "    return num[2:]\n",
    "    \n",
    "n = int(input().strip())\n",
    "a = max(func(bin(n)).split('0')).count('1')\n",
    "print(a)"
   ]
  },
  {
   "cell_type": "code",
   "execution_count": null,
   "metadata": {},
   "outputs": [],
   "source": []
  }
 ],
 "metadata": {
  "kernelspec": {
   "display_name": "Python 3",
   "language": "python",
   "name": "python3"
  },
  "language_info": {
   "codemirror_mode": {
    "name": "ipython",
    "version": 3
   },
   "file_extension": ".py",
   "mimetype": "text/x-python",
   "name": "python",
   "nbconvert_exporter": "python",
   "pygments_lexer": "ipython3",
   "version": "3.7.6"
  }
 },
 "nbformat": 4,
 "nbformat_minor": 4
}
