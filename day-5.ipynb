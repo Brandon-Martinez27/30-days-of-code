{
 "cells": [
  {
   "cell_type": "markdown",
   "metadata": {},
   "source": [
    "# Day 5: Loops\n",
    "\n",
    "\n",
    "**Objective**\n",
    "\n",
    "In this challenge, we will use loops to do some math. Check out the Tutorial tab to learn more.\n",
    "\n",
    "**Task**\n",
    "\n",
    "Given an integer, n, print its first 10 multiples. Each multiple n * i (where $1 \\leq \\ i \\leq \\ 10$) should be printed on a new line in the form: n x i = result.\n",
    "\n",
    "**Example**\n",
    "n = 3\n",
    "\n",
    "The printout should look like this:\n",
    "\n",
    "3 x 1 = 3\n",
    "\n",
    "3 x 2 = 6\n",
    "\n",
    "3 x 3 = 9\n",
    "\n",
    "3 x 4 = 12\n",
    "\n",
    "3 x 5 = 15\n",
    "\n",
    "3 x 6 = 18\n",
    "\n",
    "3 x 7 = 21\n",
    "\n",
    "3 x 8 = 24\n",
    "\n",
    "3 x 9 = 27\n",
    "\n",
    "3 x 10 = 30\n",
    "\n",
    "**Input Format**\n",
    "\n",
    "A single integer, n.\n",
    "\n",
    "**Constraints**\n",
    "- $2  \\leq \\ n  \\leq \\ 20$\n",
    "\n",
    "**Output Format**\n",
    "\n",
    "Print 10 lines of output; each line i (where $1 \\leq \\ i \\leq \\ 10$) contains the result of n * i in the form: \n",
    "n x i = result.\n",
    "\n",
    "**Sample Input**\n",
    "\n",
    "2\n",
    "\n",
    "**Sample Output**\n",
    "\n",
    "2 x 1 = 2\n",
    "\n",
    "2 x 2 = 4\n",
    "\n",
    "2 x 3 = 6\n",
    "\n",
    "2 x 4 = 8\n",
    "\n",
    "2 x 5 = 10\n",
    "\n",
    "2 x 6 = 12\n",
    "\n",
    "2 x 7 = 14\n",
    "\n",
    "2 x 8 = 16\n",
    "\n",
    "2 x 9 = 18\n",
    "\n",
    "2 x 10 = 20"
   ]
  },
  {
   "cell_type": "code",
   "execution_count": 1,
   "metadata": {},
   "outputs": [
    {
     "name": "stdout",
     "output_type": "stream",
     "text": [
      "5\n",
      "5 x 1 = 5\n",
      "5 x 2 = 10\n",
      "5 x 3 = 15\n",
      "5 x 4 = 20\n",
      "5 x 5 = 25\n",
      "5 x 6 = 30\n",
      "5 x 7 = 35\n",
      "5 x 8 = 40\n",
      "5 x 9 = 45\n",
      "5 x 10 = 50\n"
     ]
    }
   ],
   "source": [
    "#!/bin/python3\n",
    "\n",
    "import math\n",
    "import os\n",
    "import random\n",
    "import re\n",
    "import sys\n",
    "\n",
    "\n",
    "\n",
    "if __name__ == '__main__':\n",
    "    n = int(input())\n",
    "\n",
    "for i in range(1,11):\n",
    "    print(f'{n} x {i} = {n * i}')"
   ]
  },
  {
   "cell_type": "markdown",
   "metadata": {},
   "source": []
  },
  {
   "cell_type": "code",
   "execution_count": null,
   "metadata": {},
   "outputs": [],
   "source": []
  }
 ],
 "metadata": {
  "kernelspec": {
   "display_name": "Python 3",
   "language": "python",
   "name": "python3"
  },
  "language_info": {
   "codemirror_mode": {
    "name": "ipython",
    "version": 3
   },
   "file_extension": ".py",
   "mimetype": "text/x-python",
   "name": "python",
   "nbconvert_exporter": "python",
   "pygments_lexer": "ipython3",
   "version": "3.7.6"
  }
 },
 "nbformat": 4,
 "nbformat_minor": 4
}
