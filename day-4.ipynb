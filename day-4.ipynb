{
 "cells": [
  {
   "cell_type": "markdown",
   "metadata": {},
   "source": [
    "# Day 4: Class vs. Instance\n",
    "\n",
    "\n",
    "**Objective**\n",
    "In this challenge, we're going to learn about the difference between a class and an instance; because this is an Object Oriented concept, it's only enabled in certain languages. Check out the Tutorial tab for learning materials and an instructional video!\n",
    "\n",
    "**Task**\n",
    "\n",
    "Write a Person class with an instance variable, age, and a constructor that takes an integer, initialAge, as a parameter. The constructor must assign initialAge to age after confirming the argument passed as initialAge\n",
    "is not negative; if a negative argument is passed as , the constructor should set to and print Age is not valid, setting age to 0. Age is not valid, setting age to 0. In addition, you must write the following instance\n",
    "methods:\n",
    "1. yearPasses() should increase the age instance variable by 1.\n",
    "2. amIOld() should perform the following conditional actions: \n",
    "    - If age < 13, print 'You are young.' \n",
    "    - If age $ \\geq \\$ 13 and age < 18, print 'You are a teenager.' .\n",
    "    - Otherwise, print 'You are old.'.\n",
    "To help you learn by example and complete this challenge, much of the code is provided for you, but you'll be writing everything in the future. The code that creates each instance of your Person class is in the main method. Don't worry if you don't understand it all quite yet!\n",
    "\n",
    "**Note**: Do not remove or alter the stub code in the editor.\n",
    "\n",
    "**Input Format**\n",
    "\n",
    "Input is handled for you by the stub code in the editor.\n",
    "\n",
    "The first line contains an integer, T (the number of test cases), and the T subsequent lines each contain an integer denoting the age of a Person instance.\n",
    "\n",
    "**Constraints**\n",
    "- $1  \\leq \\ T  \\leq \\ 4$\n",
    "- $-5  \\leq \\ age  \\leq \\ 30$"
   ]
  },
  {
   "cell_type": "code",
   "execution_count": 1,
   "metadata": {},
   "outputs": [
    {
     "name": "stdout",
     "output_type": "stream",
     "text": [
      "3\n",
      "4\n",
      "You are young.\n",
      "You are young.\n",
      "\n",
      "-1\n",
      "Age is not valid, setting age to 0.\n",
      "You are young.\n",
      "You are young.\n",
      "\n",
      "-1\n",
      "Age is not valid, setting age to 0.\n",
      "You are young.\n",
      "You are young.\n",
      "\n"
     ]
    }
   ],
   "source": [
    "class Person:\n",
    "    def __init__(self,initialAge):\n",
    "        # Add some more code to run some checks on initialAge\n",
    "        self.age = initialAge\n",
    "        if self.age < 0:\n",
    "            print('Age is not valid, setting age to 0.')\n",
    "            self.age = 0\n",
    "            \n",
    "    def amIOld(self):\n",
    "        # Do some computations in here and print out the correct statement to the console\n",
    "        if self.age < 13:\n",
    "            print('You are young.')\n",
    "        elif self.age >= 13 and self.age < 18:\n",
    "            print('You are a teenager.')\n",
    "        else:\n",
    "            print('You are old.')\n",
    "            \n",
    "    def yearPasses(self):\n",
    "        # Increment the age of the person in here\n",
    "        self.age += 1\n",
    "t = int(input())\n",
    "for i in range(0, t):\n",
    "    age = int(input())         \n",
    "    p = Person(age)  \n",
    "    p.amIOld()\n",
    "    for j in range(0, 3):\n",
    "        p.yearPasses()       \n",
    "    p.amIOld()\n",
    "    print(\"\")"
   ]
  },
  {
   "cell_type": "markdown",
   "metadata": {},
   "source": []
  }
 ],
 "metadata": {
  "kernelspec": {
   "display_name": "Python 3",
   "language": "python",
   "name": "python3"
  },
  "language_info": {
   "codemirror_mode": {
    "name": "ipython",
    "version": 3
   },
   "file_extension": ".py",
   "mimetype": "text/x-python",
   "name": "python",
   "nbconvert_exporter": "python",
   "pygments_lexer": "ipython3",
   "version": "3.7.6"
  }
 },
 "nbformat": 4,
 "nbformat_minor": 4
}
