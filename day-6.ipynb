{
 "cells": [
  {
   "cell_type": "markdown",
   "metadata": {},
   "source": [
    "# Day 6: Let's Review\n",
    "\n",
    "\n",
    "**Objective**\n",
    "\n",
    "Today we will expand our knowledge of strings, combining it with what we have already learned about loops. Check out the Tutorial tab for learning materials and an instructional video.\n",
    "\n",
    "**Task**\n",
    "\n",
    "Given a string, S, of length N that is indexed from 0 to N-1, print its even-indexed and odd-indexed characters as 2 space-separated strings on a single line (see the Sample below for more detail).\n",
    "\n",
    "**Note**: 0 is considered to be an even index.\n",
    "\n",
    "\n",
    "**Example**\n",
    "s = adbecf\n",
    "\n",
    "Print abc def\n",
    "\n",
    "**Input Format**\n",
    "\n",
    "The first line contains an integer, T (the number of test cases). \n",
    "Each line i of the T subsequent lines contain a string, S.\n",
    "\n",
    "**Constraints**\n",
    "- $1  \\leq \\ T  \\leq \\ 10$\n",
    "- $2  \\leq \\ length of S  \\leq \\ 10000$\n",
    "\n",
    "**Output Format**\n",
    "\n",
    "For each String $S_j$ (where $0 \\leq \\ j  \\leq \\ T - 1$), print $S_j$'s even-indexed characters, followed by a space, followed by $S_j$'s odd-indexed characters.\n",
    "\n",
    "**Sample Input**\n",
    "\n",
    "2\n",
    "\n",
    "Hacker\n",
    "\n",
    "Rank\n",
    "\n",
    "**Sample Output**\n",
    "\n",
    "Hce akr\n",
    "\n",
    "Rn ak"
   ]
  },
  {
   "cell_type": "code",
   "execution_count": 24,
   "metadata": {},
   "outputs": [
    {
     "name": "stdout",
     "output_type": "stream",
     "text": [
      "2\n",
      "hacker\n",
      "rank\n",
      "hce akr\n",
      "rn ak\n"
     ]
    }
   ],
   "source": [
    "# Enter your code here. Read input from STDIN. Print output to STDOUT\n",
    "T = int(input()) # number of test cases\n",
    "\n",
    "S_list = []\n",
    "for t in range(0, T):\n",
    "    S = str(input()) # ask for string input\n",
    "    S_list.append(S) # add the strings to a list\n",
    "    \n",
    "for s in S_list: # for every string in the list,\n",
    "    N = len(s) # store the length of string\n",
    "    N_list = range(0, N) # create a list of the index from 0 to N\n",
    "\n",
    "    evens = [n for n in N_list if n % 2 == 0] # list of even index\n",
    "    odds = [n for n in N_list if n % 2 != 0] # list of odd index\n",
    "    even_str = '' # create empty string\n",
    "    for index in evens: # for every index in the evens,\n",
    "        even_str += s[index] # add the even index letters to the str\n",
    "    odd_str = '' # create empty string\n",
    "    for index in odds: # for every index in the odds,\n",
    "        odd_str += s[index] # add the odd index letters to the str\n",
    "    print(even_str + ' ' + odd_str) # print the combination"
   ]
  },
  {
   "cell_type": "markdown",
   "metadata": {},
   "source": [
    "---\n",
    "**scratch work**"
   ]
  },
  {
   "cell_type": "code",
   "execution_count": 20,
   "metadata": {},
   "outputs": [
    {
     "data": {
      "text/plain": [
       "4"
      ]
     },
     "execution_count": 20,
     "metadata": {},
     "output_type": "execute_result"
    }
   ],
   "source": [
    "S_list\n",
    "N"
   ]
  },
  {
   "cell_type": "code",
   "execution_count": 3,
   "metadata": {},
   "outputs": [
    {
     "name": "stdout",
     "output_type": "stream",
     "text": [
      "10\n"
     ]
    }
   ],
   "source": [
    "N = int(input())\n",
    "N_list = range(0, N)\n",
    "\n",
    "evens = [n for n in N_list if n % 2 == 0]\n",
    "odds = [n for n in N_list if n % 2 != 0]"
   ]
  },
  {
   "cell_type": "code",
   "execution_count": 4,
   "metadata": {},
   "outputs": [
    {
     "data": {
      "text/plain": [
       "([0, 2, 4, 6, 8], [1, 3, 5, 7, 9])"
      ]
     },
     "execution_count": 4,
     "metadata": {},
     "output_type": "execute_result"
    }
   ],
   "source": [
    "evens, odds"
   ]
  },
  {
   "cell_type": "code",
   "execution_count": 5,
   "metadata": {},
   "outputs": [],
   "source": [
    "s = 'Hackeranks' # 10 letters\n",
    "\n",
    "#string = s[0] + s[2] + s[4] + s[6] + s[8]"
   ]
  },
  {
   "cell_type": "code",
   "execution_count": 7,
   "metadata": {},
   "outputs": [
    {
     "data": {
      "text/plain": [
       "'Hceak'"
      ]
     },
     "execution_count": 7,
     "metadata": {},
     "output_type": "execute_result"
    }
   ],
   "source": [
    "string = ''\n",
    "for index in evens:\n",
    "    string += s[index]\n",
    "string"
   ]
  }
 ],
 "metadata": {
  "kernelspec": {
   "display_name": "Python 3",
   "language": "python",
   "name": "python3"
  },
  "language_info": {
   "codemirror_mode": {
    "name": "ipython",
    "version": 3
   },
   "file_extension": ".py",
   "mimetype": "text/x-python",
   "name": "python",
   "nbconvert_exporter": "python",
   "pygments_lexer": "ipython3",
   "version": "3.7.6"
  }
 },
 "nbformat": 4,
 "nbformat_minor": 4
}
