{
 "cells": [
  {
   "cell_type": "markdown",
   "metadata": {},
   "source": [
    "# Day 17: More Exceptions\n",
    "\n",
    "\n",
    "**Objective**\n",
    "\n",
    "Yesterday's challenge taught you to manage exceptional situations by using try and catch blocks. In today's challenge, you will practice throwing and propagating an exception. Check out the Tutorial tab for learning materials and an instructional video.\n",
    "\n",
    "**Task**\n",
    "\n",
    "Write a Calculator class with a single method: int power(int,int). The power method takes two integers, n and p, as parameters and returns the integer result of n^p. If either n or p is negative, then the method must throw an exception with the message: n and p should be non-negative.\n",
    "\n",
    "**Note**: Do not use an access modifier (e.g.: public) in the declaration for your Calculator class.\n",
    "\n",
    "**Input Format**\n",
    "\n",
    "Input from stdin is handled for you by the locked stub code in your editor. The first line contains an integer, T, the number of test cases. Each of the T subsequent lines describes a test case in 2 space-separated integers that denote n and p, respectively.\n",
    "\n",
    "**Constraints**\n",
    "- No Test Case will result in overflow for correctly written code.\n",
    "\n",
    "**Output Format**\n",
    "\n",
    "Output to stdout is handled for you by the locked stub code in your editor. There are T lines of output, where each line contains the result of n^p as calculated by your Calculator class' power method.\n",
    "\n",
    "**Sample Input**\n",
    "\n",
    "4\n",
    "\n",
    "3 5\n",
    "\n",
    "2 4\n",
    "\n",
    "-1 -2\n",
    "\n",
    "-1 3\n",
    "\n",
    "**Sample Output 0**\n",
    "\n",
    "243\n",
    "\n",
    "16\n",
    "\n",
    "n and p should be non-negative\n",
    "\n",
    "n and p should be non-negative"
   ]
  },
  {
   "cell_type": "code",
   "execution_count": 14,
   "metadata": {
    "scrolled": true
   },
   "outputs": [
    {
     "name": "stdout",
     "output_type": "stream",
     "text": [
      "4\n",
      "3 5\n",
      "243\n",
      "2 4\n",
      "16\n",
      "-1 -2\n",
      "n and p should be non-negative\n",
      "-1 3\n",
      "n and p should be non-negative\n"
     ]
    }
   ],
   "source": [
    "class e(Exception):\n",
    "    \"n and p should be non-negative\"\n",
    "\n",
    "\n",
    "class Calculator():\n",
    "    def power(self, n, p):\n",
    "        try:\n",
    "            if n | p < 0:\n",
    "                raise e\n",
    "\n",
    "            else:\n",
    "                return (n ** p)\n",
    "        except e:\n",
    "            return (\"n and p should be non-negative\")\n",
    "        \n",
    "myCalculator=Calculator()\n",
    "T=int(input())\n",
    "for i in range(T):\n",
    "    n,p = map(int, input().split())\n",
    "    try:\n",
    "        ans=myCalculator.power(n,p)\n",
    "        print(ans)\n",
    "    except Exception as e:\n",
    "        print(e) "
   ]
  },
  {
   "cell_type": "markdown",
   "metadata": {},
   "source": [
    "---\n",
    "### scratch work"
   ]
  },
  {
   "cell_type": "code",
   "execution_count": null,
   "metadata": {},
   "outputs": [],
   "source": []
  }
 ],
 "metadata": {
  "kernelspec": {
   "display_name": "Python 3",
   "language": "python",
   "name": "python3"
  },
  "language_info": {
   "codemirror_mode": {
    "name": "ipython",
    "version": 3
   },
   "file_extension": ".py",
   "mimetype": "text/x-python",
   "name": "python",
   "nbconvert_exporter": "python",
   "pygments_lexer": "ipython3",
   "version": "3.7.6"
  }
 },
 "nbformat": 4,
 "nbformat_minor": 4
}
