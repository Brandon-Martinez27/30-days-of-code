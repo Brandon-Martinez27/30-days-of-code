{
 "cells": [
  {
   "cell_type": "markdown",
   "metadata": {},
   "source": [
    "# Day 20: Sorting\n",
    "\n",
    "\n",
    "**Objective**\n",
    "\n",
    "Today, we're discussing a simple sorting algorithm called Bubble Sort. Check out the Tutorial tab for learning materials and an instructional video!\n",
    "\n",
    "Consider the following version of Bubble Sort:"
   ]
  },
  {
   "cell_type": "raw",
   "metadata": {},
   "source": [
    "for (int i = 0; i < n; i++) {\n",
    "    // Track number of elements swapped during a single array traversal\n",
    "    int numberOfSwaps = 0;\n",
    "    \n",
    "    for (int j = 0; j < n - 1; j++) {\n",
    "        // Swap adjacent elements if they are in decreasing order\n",
    "        if (a[j] > a[j + 1]) {\n",
    "            swap(a[j], a[j + 1]);\n",
    "            numberOfSwaps++;\n",
    "        }\n",
    "    }\n",
    "    \n",
    "    // If no elements were swapped during a traversal, array is sorted\n",
    "    if (numberOfSwaps == 0) {\n",
    "        break;\n",
    "    }\n",
    "}"
   ]
  },
  {
   "cell_type": "markdown",
   "metadata": {},
   "source": [
    "**Task** \n",
    "\n",
    "Given an array, a, of size n distinct elements, sort the array in ascending order using the Bubble Sort algorithm above. Once sorted, print the following 3 lines:\n",
    "\n",
    "1. Array is sorted in numSwaps swaps. \n",
    "    where  is the number of swaps that took place.\n",
    "2. First Element: firstElement \n",
    "    where  is the first element in the sorted array.\n",
    "3. Last Element: lastElement \n",
    "    where  is the last element in the sorted array.\n",
    "\n",
    "**Hint**: To complete this challenge, you will need to add a variable that keeps a running tally of all swaps that occur during execution.\n",
    "\n",
    "**Example**\n",
    "\n",
    "$a = [4, 3, 2, 1]$\n",
    "\n",
    "`original a: 4 3 1 2\n",
    " round 1  a: 3 1 2 4 swaps this round: 3\n",
    " round 2  a: 1 2 3 4 swaps this round: 2\n",
    " round 3  a: 1 2 3 4 swaps this round: 0`\n",
    " \n",
    "In the first round, the 4 is swapped at each of the 3 comparisons, ending in the last position. In the second round, the 3 is swapped at 2 of the 3 comparisons. Finally, in the third round, no swaps are made so the iterations stop. The output is the following:\n",
    "\n",
    "`Array is sorted in 5 swaps.\n",
    " First Element: 1\n",
    " Last Element: 4`\n",
    "\n",
    "-truncated-"
   ]
  },
  {
   "cell_type": "code",
   "execution_count": 1,
   "metadata": {
    "scrolled": true
   },
   "outputs": [
    {
     "name": "stdout",
     "output_type": "stream",
     "text": [
      "3\n",
      "1 2 3\n",
      "Array is sorted in 0 swaps.\n",
      "First Element: 1\n",
      "Last Element: 3\n"
     ]
    }
   ],
   "source": [
    "#!/bin/python3\n",
    "\n",
    "import sys\n",
    "\n",
    "n = int(input().strip())\n",
    "a = list(map(int, input().strip().split(' ')))\n",
    "# Write Your Code Here\n",
    "def bubble(arr):\n",
    "    count_swap = 0\n",
    "    for num in range(len(arr)-1, 0, -1):\n",
    "        for i in range(num):\n",
    "            if arr[i] > arr[i+1]:\n",
    "                arr[i], arr[i+1] = arr[i+1], arr[i]\n",
    "                count_swap +=1\n",
    "    return count_swap\n",
    "\n",
    "print(\"Array is sorted in {} swaps.\".format(bubble(a)))\n",
    "print(\"First Element: {}\".format(a[0]))\n",
    "print(\"Last Element: {}\".format(a[-1]))"
   ]
  },
  {
   "cell_type": "markdown",
   "metadata": {},
   "source": [
    "---\n",
    "### scratch work"
   ]
  }
 ],
 "metadata": {
  "kernelspec": {
   "display_name": "Python 3",
   "language": "python",
   "name": "python3"
  },
  "language_info": {
   "codemirror_mode": {
    "name": "ipython",
    "version": 3
   },
   "file_extension": ".py",
   "mimetype": "text/x-python",
   "name": "python",
   "nbconvert_exporter": "python",
   "pygments_lexer": "ipython3",
   "version": "3.7.6"
  }
 },
 "nbformat": 4,
 "nbformat_minor": 4
}
